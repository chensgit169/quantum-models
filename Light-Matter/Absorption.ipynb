{
 "cells": [
  {
   "cell_type": "markdown",
   "id": "c2c1d446-3e9b-4ee5-8a7d-19b31dcf77c3",
   "metadata": {},
   "source": [
    "# Numerics: Absorption"
   ]
  },
  {
   "cell_type": "markdown",
   "id": "762b867f-5ad4-48c1-9507-fe610c683ee3",
   "metadata": {},
   "source": [
    "We look at an aggregate consisting of N molecules. Each molecules is modelled as a two\n",
    "level system with a ground state ∣g⟩ and an excited state ∣e⟩. As discussed in the lecture,\n",
    "the total ground state of the aggregate is approximated as ∣G⟩ = ∣g⟩⋯∣g⟩. Consider an\n",
    "eigenstate of the form\n",
    "∣ψℓ⟩ =\n",
    "NΣ\n",
    "n=1\n",
    "c(ℓ)\n",
    "n ∣πn⟩\n",
    "with ∣πn⟩ = ∣g⟩ . . . ∣e⟩ . . . ∣g⟩. Such a state can be stored as an array (c\n",
    "(ℓ)\n",
    "1 , . . . , c\n",
    "(ℓ)\n",
    "N ). The\n",
    "absorption strength from the state ∣G⟩ to the state ∣ψℓ⟩ can then be calculated as\n",
    "$$\n",
    "\\mathcal{A}^{(l)}=\\sum_{n=1}^N|c_n^{(l)}\\vec \\mu_n\\cdot\\vec \\epsilon|\n",
    "$$\n",
    "\n",
    "where ⃗ϵ is the polarization of the light-field, which can be represented in carthesian\n",
    "coordinates as an array (ϵx, ϵy, ϵz) and the transition dipole vector of molecule n is\n",
    "(μx\n",
    "n,μy\n",
    "n,μz\n",
    "n). It makes sense to store the N dipole vectors also as an array."
   ]
  },
  {
   "cell_type": "code",
   "execution_count": 13,
   "id": "6a2ee214-1829-428c-80ad-628e3718f040",
   "metadata": {},
   "outputs": [],
   "source": [
    "import numpy as np\n",
    "\n",
    "# Define a function to calculate the absorption strength\n",
    "\n",
    "def absorption_strength(c, polarization, dipoles):\n",
    "    \"\"\"\n",
    "    Calculate the absorption strength from the state |G⟩ to the state |ψℓ⟩.\n",
    "\n",
    "    Parameters:\n",
    "    - c (numpy array): Coefficients of the eigenstate |ψℓ⟩, a 1D array of length N.\n",
    "    - polarization (numpy array): Polarization vector of the light-field, a 3D array (ϵx, ϵy, ϵz).\n",
    "    - dipoles (numpy array): Dipole vectors of the molecules, a 2D array of size (N, 3), where each row is (μx, μy, μz).\n",
    "\n",
    "    Returns:\n",
    "    - A (float): The absorption strength A(ℓ) as defined in the equation.\n",
    "    \"\"\"\n",
    "    # Calculate the dot product between the polarization vector and each dipole vector (vectorized)\n",
    "    dipole_polarization = dipoles @ polarization\n",
    "    \n",
    "    # Calculate the absorption strength using vectorized operations\n",
    "    A = np.sum(np.abs(c * dipole_polarization) ** 2)\n",
    "    \n",
    "    return A"
   ]
  },
  {
   "cell_type": "markdown",
   "id": "6ccbc8e5-0aae-4a99-8b53-8cd91496128c",
   "metadata": {},
   "source": [
    "### Testing the function with a single molecule\n",
    "\n",
    "Let's now test the function for a single molecule, where we can change the relative angle between the polarization and transition dipole vector. For simplicity, we will use an analytical result $ A = |\\mu|^2 \\cos^2(\\alpha) $, where $ \\alpha $ is the angle between the polarization vector and the dipole vector."
   ]
  },
  {
   "cell_type": "code",
   "execution_count": 14,
   "id": "7a38396e-61fa-408f-a709-93c7637cb179",
   "metadata": {},
   "outputs": [
    {
     "name": "stdout",
     "output_type": "stream",
     "text": [
      "Absorption strength for single molecule: 0.5000000000000001\n",
      "Error between numerical and analytical absorption strength: 0.0\n"
     ]
    }
   ],
   "source": [
    "# Coefficient array (just a single molecule)\n",
    "c_single = np.array([1.0])\n",
    "\n",
    "# Polarization vector (in the x-direction)\n",
    "polarization_single = np.array([1.0, 0.0, 0.0])\n",
    "\n",
    "# Transition dipole vector making an angle alpha with the x-axis (in radians)\n",
    "alpha = np.pi / 4  # 45 degrees for example\n",
    "\n",
    "mu_magnitude = 1.0  # magnitude of dipole moment\n",
    "\n",
    "dipole_single = mu_magnitude * np.array([np.cos(alpha), 0.0, np.sin(alpha)])\n",
    "\n",
    "# Calculate the absorption strength using the function\n",
    "A_single = absorption_strength(c_single, polarization_single, np.array([dipole_single]))\n",
    "\n",
    "# Print the numerical result\n",
    "print(f\"Absorption strength for single molecule: {A_single}\")\n",
    "\n",
    "# Calculate the analytical result: A = |μ|^2 * cos(alpha)\n",
    "A_analytical = mu_magnitude**2 * np.cos(alpha) ** 2\n",
    "\n",
    "# Calculate the error (absolute difference) between the numerical and analytical results\n",
    "error = np.abs(A_single - A_analytical)\n",
    "\n",
    "# Print the error\n",
    "print(f\"Error between numerical and analytical absorption strength: {error}\")"
   ]
  },
  {
   "cell_type": "code",
   "execution_count": 10,
   "id": "adc0a778-58ff-4a3f-bb87-4ac8809eb027",
   "metadata": {},
   "outputs": [],
   "source": [
    "# Function to calculate the angle between two vectors in radians\n",
    "def angle_between_vectors(v1, v2):\n",
    "    cos_angle = np.dot(v1, v2) / (np.linalg.norm(v1) * np.linalg.norm(v2))\n",
    "    return np.arccos(np.clip(cos_angle, -1.0, 1.0))"
   ]
  },
  {
   "cell_type": "markdown",
   "id": "e9b17bac-6489-49e0-b887-acc1eca9e561",
   "metadata": {},
   "source": [
    "### Testing the function for a dimer\n",
    "\n",
    "Next, let's test the function for a dimer. A dimer consists of two molecules. We will define their dipole vectors and coefficients accordingly.\n"
   ]
  },
  {
   "cell_type": "code",
   "execution_count": 15,
   "id": "53e27040-cb1c-4ffc-bf5b-cec6e2ed92eb",
   "metadata": {},
   "outputs": [
    {
     "name": "stdout",
     "output_type": "stream",
     "text": [
      "Absorption strength for dimer: 0.7300000000000001\n"
     ]
    }
   ],
   "source": [
    "# Coefficients for the two molecules (arbitrary values)\n",
    "c_dimer = np.array([0.8, 0.6])\n",
    "c_dimer = c_dimer / np.linalg.norm(c_dimer)\n",
    "\n",
    "# Polarization vector (still in the x-direction)\n",
    "polarization_dimer = np.array([1.0, 0.0, 0.0])\n",
    "\n",
    "# Transition dipole vectors for the two molecules (arbitrary angles)\n",
    "dipole_dimer = np.array([[1.0, 0.0, 0.0], [0.5, 0.5, 0.0]])\n",
    "\n",
    "# Calculate the absorption strength for the dimer\n",
    "A_dimer = absorption_strength(c_dimer, polarization_dimer, dipole_dimer)\n",
    "\n",
    "# Print the result\n",
    "print(f\"Absorption strength for dimer: {A_dimer}\")"
   ]
  },
  {
   "cell_type": "markdown",
   "id": "9650897b-a1c4-4666-b91c-653edd9b1085",
   "metadata": {},
   "source": [
    "### Conclusion\n",
    "\n",
    "In this notebook, we defined a function to calculate the absorption strength for an aggregate of molecules and tested it for both a single molecule and a dimer. For a single molecule, we also compared the numerical result to the analytical formula, ensuring the function works as expected."
   ]
  }
 ],
 "metadata": {
  "kernelspec": {
   "display_name": "Python 3 (ipykernel)",
   "language": "python",
   "name": "python3"
  },
  "language_info": {
   "codemirror_mode": {
    "name": "ipython",
    "version": 3
   },
   "file_extension": ".py",
   "mimetype": "text/x-python",
   "name": "python",
   "nbconvert_exporter": "python",
   "pygments_lexer": "ipython3",
   "version": "3.12.2"
  }
 },
 "nbformat": 4,
 "nbformat_minor": 5
}
